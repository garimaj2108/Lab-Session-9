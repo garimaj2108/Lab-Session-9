{
 "cells": [
  {
   "cell_type": "code",
   "execution_count": 1,
   "metadata": {
    "collapsed": true
   },
   "outputs": [],
   "source": [
    "import pandas as pd"
   ]
  },
  {
   "cell_type": "code",
   "execution_count": 2,
   "metadata": {
    "collapsed": true
   },
   "outputs": [],
   "source": [
    "df = pd.read_csv('/Users/garimajain/Desktop/SCU_curriculumRevised.csv')"
   ]
  },
  {
   "cell_type": "code",
   "execution_count": 5,
   "metadata": {
    "collapsed": false
   },
   "outputs": [],
   "source": [
    "del df['0']"
   ]
  },
  {
   "cell_type": "code",
   "execution_count": 8,
   "metadata": {
    "collapsed": false
   },
   "outputs": [],
   "source": [
    "df.to_csv('SCUCurriculumRevised.csv', index=False, encoding='utf-8')"
   ]
  },
  {
   "cell_type": "code",
   "execution_count": 9,
   "metadata": {
    "collapsed": false
   },
   "outputs": [
    {
     "data": {
      "text/html": [
       "<div>\n",
       "<table border=\"1\" class=\"dataframe\">\n",
       "  <thead>\n",
       "    <tr style=\"text-align: right;\">\n",
       "      <th></th>\n",
       "      <th>Course</th>\n",
       "      <th>Job Profile 1</th>\n",
       "      <th>Skill 1</th>\n",
       "      <th>Skill 2</th>\n",
       "      <th>Skill 3</th>\n",
       "      <th>Skill 4</th>\n",
       "    </tr>\n",
       "  </thead>\n",
       "  <tbody>\n",
       "    <tr>\n",
       "      <th>0</th>\n",
       "      <td>Information Systems Analysis and Design</td>\n",
       "      <td>Business Analyst</td>\n",
       "      <td>Software Project Management</td>\n",
       "      <td>Requirement Gathering</td>\n",
       "      <td>Requirement Analysis</td>\n",
       "      <td>Business Analysis</td>\n",
       "    </tr>\n",
       "    <tr>\n",
       "      <th>1</th>\n",
       "      <td>Database Management Systems</td>\n",
       "      <td>Business Analyst</td>\n",
       "      <td>SQL</td>\n",
       "      <td>MS SQL</td>\n",
       "      <td>Databases</td>\n",
       "      <td>Database Design</td>\n",
       "    </tr>\n",
       "    <tr>\n",
       "      <th>2</th>\n",
       "      <td>Software Project Management</td>\n",
       "      <td>Business Analyst</td>\n",
       "      <td>Software Project Management</td>\n",
       "      <td>Software Development Life Cycle</td>\n",
       "      <td>NaN</td>\n",
       "      <td>NaN</td>\n",
       "    </tr>\n",
       "    <tr>\n",
       "      <th>3</th>\n",
       "      <td>Computer-Based Decision Models</td>\n",
       "      <td>Data Analyst</td>\n",
       "      <td>Analytics</td>\n",
       "      <td>NaN</td>\n",
       "      <td>NaN</td>\n",
       "      <td>NaN</td>\n",
       "    </tr>\n",
       "    <tr>\n",
       "      <th>4</th>\n",
       "      <td>Business Intelligence and Data Warehousing</td>\n",
       "      <td>Data Analyst</td>\n",
       "      <td>Business Intelligence</td>\n",
       "      <td>NaN</td>\n",
       "      <td>NaN</td>\n",
       "      <td>NaN</td>\n",
       "    </tr>\n",
       "    <tr>\n",
       "      <th>5</th>\n",
       "      <td>Big Data Modeling and Analytics</td>\n",
       "      <td>Data Analyst</td>\n",
       "      <td>Big Data Analysis with Hadoop</td>\n",
       "      <td>NaN</td>\n",
       "      <td>NaN</td>\n",
       "      <td>NaN</td>\n",
       "    </tr>\n",
       "    <tr>\n",
       "      <th>6</th>\n",
       "      <td>Dashboards, Scorecards, and Visualization</td>\n",
       "      <td>Data Analyst</td>\n",
       "      <td>Tableau</td>\n",
       "      <td>Data Analytics</td>\n",
       "      <td>NaN</td>\n",
       "      <td>NaN</td>\n",
       "    </tr>\n",
       "    <tr>\n",
       "      <th>7</th>\n",
       "      <td>Data Science Analysis with Python</td>\n",
       "      <td>Data Analyst</td>\n",
       "      <td>Python</td>\n",
       "      <td>Data Analytics</td>\n",
       "      <td>NaN</td>\n",
       "      <td>NaN</td>\n",
       "    </tr>\n",
       "    <tr>\n",
       "      <th>8</th>\n",
       "      <td>Database Management Systems</td>\n",
       "      <td>Database Analyst</td>\n",
       "      <td>SQL</td>\n",
       "      <td>MS SQL</td>\n",
       "      <td>Databases</td>\n",
       "      <td>Database Design</td>\n",
       "    </tr>\n",
       "    <tr>\n",
       "      <th>9</th>\n",
       "      <td>Business Intelligence and Data Warehousing</td>\n",
       "      <td>Database Analyst</td>\n",
       "      <td>Business Intelligence</td>\n",
       "      <td>NaN</td>\n",
       "      <td>NaN</td>\n",
       "      <td>NaN</td>\n",
       "    </tr>\n",
       "  </tbody>\n",
       "</table>\n",
       "</div>"
      ],
      "text/plain": [
       "                                       Course     Job Profile 1  \\\n",
       "0     Information Systems Analysis and Design  Business Analyst   \n",
       "1                 Database Management Systems  Business Analyst   \n",
       "2                 Software Project Management  Business Analyst   \n",
       "3              Computer-Based Decision Models      Data Analyst   \n",
       "4  Business Intelligence and Data Warehousing      Data Analyst   \n",
       "5             Big Data Modeling and Analytics      Data Analyst   \n",
       "6   Dashboards, Scorecards, and Visualization      Data Analyst   \n",
       "7           Data Science Analysis with Python      Data Analyst   \n",
       "8                 Database Management Systems  Database Analyst   \n",
       "9  Business Intelligence and Data Warehousing  Database Analyst   \n",
       "\n",
       "                         Skill 1                          Skill 2  \\\n",
       "0    Software Project Management            Requirement Gathering   \n",
       "1                            SQL                           MS SQL   \n",
       "2    Software Project Management  Software Development Life Cycle   \n",
       "3                      Analytics                              NaN   \n",
       "4          Business Intelligence                              NaN   \n",
       "5  Big Data Analysis with Hadoop                              NaN   \n",
       "6                        Tableau                   Data Analytics   \n",
       "7                         Python                   Data Analytics   \n",
       "8                            SQL                           MS SQL   \n",
       "9          Business Intelligence                              NaN   \n",
       "\n",
       "                Skill 3            Skill 4  \n",
       "0  Requirement Analysis  Business Analysis  \n",
       "1             Databases    Database Design  \n",
       "2                   NaN                NaN  \n",
       "3                   NaN                NaN  \n",
       "4                   NaN                NaN  \n",
       "5                   NaN                NaN  \n",
       "6                   NaN                NaN  \n",
       "7                   NaN                NaN  \n",
       "8             Databases    Database Design  \n",
       "9                   NaN                NaN  "
      ]
     },
     "execution_count": 9,
     "metadata": {},
     "output_type": "execute_result"
    }
   ],
   "source": [
    "df"
   ]
  },
  {
   "cell_type": "code",
   "execution_count": null,
   "metadata": {
    "collapsed": true
   },
   "outputs": [],
   "source": []
  }
 ],
 "metadata": {
  "kernelspec": {
   "display_name": "Python 2",
   "language": "python",
   "name": "python2"
  },
  "language_info": {
   "codemirror_mode": {
    "name": "ipython",
    "version": 2
   },
   "file_extension": ".py",
   "mimetype": "text/x-python",
   "name": "python",
   "nbconvert_exporter": "python",
   "pygments_lexer": "ipython2",
   "version": "2.7.13"
  }
 },
 "nbformat": 4,
 "nbformat_minor": 2
}
