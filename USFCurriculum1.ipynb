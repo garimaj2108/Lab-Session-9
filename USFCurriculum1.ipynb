{
 "cells": [
  {
   "cell_type": "code",
   "execution_count": 1,
   "metadata": {
    "collapsed": true
   },
   "outputs": [],
   "source": [
    "import pandas as pd"
   ]
  },
  {
   "cell_type": "code",
   "execution_count": 2,
   "metadata": {
    "collapsed": true
   },
   "outputs": [],
   "source": [
    "df = pd.read_csv('/Users/garimajain/Desktop/USF_curriculum.csv')"
   ]
  },
  {
   "cell_type": "code",
   "execution_count": 4,
   "metadata": {
    "collapsed": false
   },
   "outputs": [],
   "source": [
    "del df['Course Number']"
   ]
  },
  {
   "cell_type": "code",
   "execution_count": 5,
   "metadata": {
    "collapsed": false
   },
   "outputs": [
    {
     "data": {
      "text/html": [
       "<div>\n",
       "<table border=\"1\" class=\"dataframe\">\n",
       "  <thead>\n",
       "    <tr style=\"text-align: right;\">\n",
       "      <th></th>\n",
       "      <th>Course Name</th>\n",
       "      <th>Job Profile</th>\n",
       "      <th>Skill 1</th>\n",
       "      <th>Skill 2</th>\n",
       "      <th>Skill 3</th>\n",
       "      <th>Skill 4</th>\n",
       "    </tr>\n",
       "  </thead>\n",
       "  <tbody>\n",
       "    <tr>\n",
       "      <th>0</th>\n",
       "      <td>Database</td>\n",
       "      <td>Business Analyst</td>\n",
       "      <td>Relational Databases</td>\n",
       "      <td>Database Design</td>\n",
       "      <td>NaN</td>\n",
       "      <td>NaN</td>\n",
       "    </tr>\n",
       "    <tr>\n",
       "      <th>1</th>\n",
       "      <td>Analysis, Modeling and Design</td>\n",
       "      <td>Business Analyst</td>\n",
       "      <td>Requirement Gathering</td>\n",
       "      <td>Requirement Analysis</td>\n",
       "      <td>Business Analysis</td>\n",
       "      <td>Software Project Management</td>\n",
       "    </tr>\n",
       "    <tr>\n",
       "      <th>2</th>\n",
       "      <td>Managing Project and Change</td>\n",
       "      <td>Project Manager</td>\n",
       "      <td>Software Project Management</td>\n",
       "      <td>NaN</td>\n",
       "      <td>NaN</td>\n",
       "      <td>NaN</td>\n",
       "    </tr>\n",
       "    <tr>\n",
       "      <th>3</th>\n",
       "      <td>Business Intelligence and Data Warehousing</td>\n",
       "      <td>Data Analyst</td>\n",
       "      <td>Business Intelligence</td>\n",
       "      <td>NaN</td>\n",
       "      <td>NaN</td>\n",
       "      <td>NaN</td>\n",
       "    </tr>\n",
       "    <tr>\n",
       "      <th>4</th>\n",
       "      <td>Business Intelligence and Data Warehousing</td>\n",
       "      <td>Database Analyst</td>\n",
       "      <td>Business Intelligence</td>\n",
       "      <td>NaN</td>\n",
       "      <td>NaN</td>\n",
       "      <td>NaN</td>\n",
       "    </tr>\n",
       "    <tr>\n",
       "      <th>5</th>\n",
       "      <td>Database</td>\n",
       "      <td>Database Analyst</td>\n",
       "      <td>Relational Databases</td>\n",
       "      <td>Database Design</td>\n",
       "      <td>NaN</td>\n",
       "      <td>NaN</td>\n",
       "    </tr>\n",
       "  </tbody>\n",
       "</table>\n",
       "</div>"
      ],
      "text/plain": [
       "                                  Course Name       Job Profile  \\\n",
       "0                                    Database  Business Analyst   \n",
       "1               Analysis, Modeling and Design  Business Analyst   \n",
       "2                 Managing Project and Change   Project Manager   \n",
       "3  Business Intelligence and Data Warehousing      Data Analyst   \n",
       "4  Business Intelligence and Data Warehousing  Database Analyst   \n",
       "5                                    Database  Database Analyst   \n",
       "\n",
       "                       Skill 1               Skill 2            Skill 3  \\\n",
       "0         Relational Databases       Database Design                NaN   \n",
       "1        Requirement Gathering  Requirement Analysis  Business Analysis   \n",
       "2  Software Project Management                   NaN                NaN   \n",
       "3        Business Intelligence                   NaN                NaN   \n",
       "4        Business Intelligence                   NaN                NaN   \n",
       "5         Relational Databases       Database Design                NaN   \n",
       "\n",
       "                       Skill 4  \n",
       "0                          NaN  \n",
       "1  Software Project Management  \n",
       "2                          NaN  \n",
       "3                          NaN  \n",
       "4                          NaN  \n",
       "5                          NaN  "
      ]
     },
     "execution_count": 5,
     "metadata": {},
     "output_type": "execute_result"
    }
   ],
   "source": [
    "df"
   ]
  },
  {
   "cell_type": "code",
   "execution_count": 6,
   "metadata": {
    "collapsed": true
   },
   "outputs": [],
   "source": [
    "df.to_csv('USFCurriculum.csv', index=False, encoding='utf-8')"
   ]
  },
  {
   "cell_type": "code",
   "execution_count": null,
   "metadata": {
    "collapsed": true
   },
   "outputs": [],
   "source": []
  }
 ],
 "metadata": {
  "kernelspec": {
   "display_name": "Python 2",
   "language": "python",
   "name": "python2"
  },
  "language_info": {
   "codemirror_mode": {
    "name": "ipython",
    "version": 2
   },
   "file_extension": ".py",
   "mimetype": "text/x-python",
   "name": "python",
   "nbconvert_exporter": "python",
   "pygments_lexer": "ipython2",
   "version": "2.7.13"
  }
 },
 "nbformat": 4,
 "nbformat_minor": 2
}
